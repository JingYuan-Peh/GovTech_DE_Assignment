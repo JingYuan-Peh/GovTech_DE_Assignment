{
 "cells": [
  {
   "cell_type": "markdown",
   "metadata": {},
   "source": [
    "Based on the question on section 5, I will treat this as a classification problem even though it is framed and looked like a regression problem as the goal is to predict the buyer price. On the first look, the buyer price looks like continuous variable but as I look at the data dictionary, I realized that it is a discrete variable. Thus, I will approach this as classification problem"
   ]
  },
  {
   "cell_type": "code",
   "execution_count": 17,
   "metadata": {},
   "outputs": [],
   "source": [
    "# import necesssary lib\n",
    "\n",
    "import math\n",
    "import pandas as pd\n",
    "import numpy as np\n",
    "import re\n",
    "from datetime import datetime\n",
    "\n",
    "# Libraries for ML\n",
    "from sklearn.model_selection import train_test_split\n",
    "from sklearn.model_selection import StratifiedShuffleSplit\n",
    "from sklearn.preprocessing import OrdinalEncoder\n",
    "from sklearn.metrics import confusion_matrix\n",
    "from sklearn.metrics import f1_score\n",
    "from sklearn.ensemble import GradientBoostingClassifier\n",
    "\n",
    "\n",
    "# ignore warnings\n",
    "import warnings\n",
    "warnings.filterwarnings('ignore')"
   ]
  },
  {
   "cell_type": "code",
   "execution_count": 2,
   "metadata": {},
   "outputs": [],
   "source": [
    "# read the data into dataframe\n",
    "df = pd.read_csv('data\\car.data', names=['buying','maint','doors','persons','lug_boot','safety','acceptability',])"
   ]
  },
  {
   "cell_type": "code",
   "execution_count": 3,
   "metadata": {},
   "outputs": [
    {
     "data": {
      "text/html": [
       "<div>\n",
       "<style scoped>\n",
       "    .dataframe tbody tr th:only-of-type {\n",
       "        vertical-align: middle;\n",
       "    }\n",
       "\n",
       "    .dataframe tbody tr th {\n",
       "        vertical-align: top;\n",
       "    }\n",
       "\n",
       "    .dataframe thead th {\n",
       "        text-align: right;\n",
       "    }\n",
       "</style>\n",
       "<table border=\"1\" class=\"dataframe\">\n",
       "  <thead>\n",
       "    <tr style=\"text-align: right;\">\n",
       "      <th></th>\n",
       "      <th>buying</th>\n",
       "      <th>maint</th>\n",
       "      <th>doors</th>\n",
       "      <th>persons</th>\n",
       "      <th>lug_boot</th>\n",
       "      <th>safety</th>\n",
       "      <th>acceptability</th>\n",
       "    </tr>\n",
       "  </thead>\n",
       "  <tbody>\n",
       "    <tr>\n",
       "      <th>0</th>\n",
       "      <td>vhigh</td>\n",
       "      <td>vhigh</td>\n",
       "      <td>2</td>\n",
       "      <td>2</td>\n",
       "      <td>small</td>\n",
       "      <td>low</td>\n",
       "      <td>unacc</td>\n",
       "    </tr>\n",
       "    <tr>\n",
       "      <th>1</th>\n",
       "      <td>vhigh</td>\n",
       "      <td>vhigh</td>\n",
       "      <td>2</td>\n",
       "      <td>2</td>\n",
       "      <td>small</td>\n",
       "      <td>med</td>\n",
       "      <td>unacc</td>\n",
       "    </tr>\n",
       "    <tr>\n",
       "      <th>2</th>\n",
       "      <td>vhigh</td>\n",
       "      <td>vhigh</td>\n",
       "      <td>2</td>\n",
       "      <td>2</td>\n",
       "      <td>small</td>\n",
       "      <td>high</td>\n",
       "      <td>unacc</td>\n",
       "    </tr>\n",
       "    <tr>\n",
       "      <th>3</th>\n",
       "      <td>vhigh</td>\n",
       "      <td>vhigh</td>\n",
       "      <td>2</td>\n",
       "      <td>2</td>\n",
       "      <td>med</td>\n",
       "      <td>low</td>\n",
       "      <td>unacc</td>\n",
       "    </tr>\n",
       "    <tr>\n",
       "      <th>4</th>\n",
       "      <td>vhigh</td>\n",
       "      <td>vhigh</td>\n",
       "      <td>2</td>\n",
       "      <td>2</td>\n",
       "      <td>med</td>\n",
       "      <td>med</td>\n",
       "      <td>unacc</td>\n",
       "    </tr>\n",
       "  </tbody>\n",
       "</table>\n",
       "</div>"
      ],
      "text/plain": [
       "  buying  maint doors persons lug_boot safety acceptability\n",
       "0  vhigh  vhigh     2       2    small    low         unacc\n",
       "1  vhigh  vhigh     2       2    small    med         unacc\n",
       "2  vhigh  vhigh     2       2    small   high         unacc\n",
       "3  vhigh  vhigh     2       2      med    low         unacc\n",
       "4  vhigh  vhigh     2       2      med    med         unacc"
      ]
     },
     "execution_count": 3,
     "metadata": {},
     "output_type": "execute_result"
    }
   ],
   "source": [
    "# take a quick look at the dataframe\n",
    "df.head()"
   ]
  },
  {
   "cell_type": "markdown",
   "metadata": {},
   "source": [
    "I have the data dictionary which tells me all the unique values:\n",
    "\n",
    "Class Values:\n",
    "- unacc, acc, good, vgood\n",
    "\n",
    "Attributes:\n",
    "- buying: vhigh, high, med, low.\n",
    "- maint: vhigh, high, med, low.\n",
    "- doors: 2, 3, 4, 5more.\n",
    "- persons: 2, 4, more.\n",
    "- lug_boot: small, med, big.\n",
    "- safety: low, med, high."
   ]
  },
  {
   "cell_type": "code",
   "execution_count": 4,
   "metadata": {},
   "outputs": [
    {
     "data": {
      "text/plain": [
       "vhigh    432\n",
       "high     432\n",
       "med      432\n",
       "low      432\n",
       "Name: buying, dtype: int64"
      ]
     },
     "execution_count": 4,
     "metadata": {},
     "output_type": "execute_result"
    }
   ],
   "source": [
    "# check frequency of the dependent class\n",
    "\n",
    "df['buying'].value_counts()"
   ]
  },
  {
   "cell_type": "markdown",
   "metadata": {},
   "source": [
    "Each class has exactly 432 data points. There is no need to perform any sort of methods to counter data imbalance issues\n",
    "\n",
    "Encoding is need in order to fit into the ML model.\n",
    "\n",
    "I decided to use ordinal encoder to encode the variables instead of label encoder. This is because these are ordinal variables and it make sense to have label them in a sequential way. The numbers used to encode these labels have meaningful sequence."
   ]
  },
  {
   "cell_type": "code",
   "execution_count": 5,
   "metadata": {},
   "outputs": [],
   "source": [
    "# perform ordinal encoding\n",
    "buying_mapping = {\n",
    "    'vhigh': 1,\n",
    "    'high': 2,\n",
    "    'med': 3,\n",
    "    'low': 4\n",
    "}\n",
    "maint_mapping = {\n",
    "    'vhigh': 1,\n",
    "    'high': 2,\n",
    "    'med': 3,\n",
    "    'low': 4\n",
    "}\n",
    "doors_mapping = {\n",
    "    '2': 1,\n",
    "    '3': 2,\n",
    "    '4': 3,\n",
    "    '5more': 4\n",
    "}\n",
    "persons_mapping = {\n",
    "    '2': 1,\n",
    "    '4': 2,\n",
    "    'more': 3\n",
    "}\n",
    "lug_boot_mapping = {\n",
    "    'small': 1,\n",
    "    'med': 2,\n",
    "    'big': 3\n",
    "}\n",
    "safety_mapping = {\n",
    "    'low': 1,\n",
    "    'med': 2,\n",
    "    'high': 3\n",
    "}\n",
    "acceptability_mapping = {\n",
    "    'unacc': 1,\n",
    "    'acc': 2,\n",
    "    'good': 2,\n",
    "    'vgood': 3\n",
    "}"
   ]
  },
  {
   "cell_type": "code",
   "execution_count": 6,
   "metadata": {},
   "outputs": [],
   "source": [
    "df['buying'] = df['buying'].map(buying_mapping)\n",
    "df['maint'] = df['maint'].map(maint_mapping)\n",
    "df['doors'] = df['doors'].map(doors_mapping)\n",
    "df['persons'] = df['persons'].map(persons_mapping)\n",
    "df['lug_boot'] = df['lug_boot'].map(lug_boot_mapping)\n",
    "df['safety'] = df['safety'].map(safety_mapping)\n",
    "df['acceptability'] = df['acceptability'].map(acceptability_mapping)"
   ]
  },
  {
   "cell_type": "code",
   "execution_count": 7,
   "metadata": {
    "scrolled": true
   },
   "outputs": [
    {
     "data": {
      "text/plain": [
       "buying           int64\n",
       "maint            int64\n",
       "doors            int64\n",
       "persons          int64\n",
       "lug_boot         int64\n",
       "safety           int64\n",
       "acceptability    int64\n",
       "dtype: object"
      ]
     },
     "execution_count": 7,
     "metadata": {},
     "output_type": "execute_result"
    }
   ],
   "source": [
    "# Check to ensure all the data are encoded properly\n",
    "# If they are encoded properly, the data types for each column should be integer\n",
    "df.dtypes"
   ]
  },
  {
   "cell_type": "code",
   "execution_count": 8,
   "metadata": {},
   "outputs": [],
   "source": [
    "# Assign the variables\n",
    "# Do not include the persons column since it is not needed\n",
    "X = df[['maint','doors','lug_boot','safety','acceptability']]\n",
    "y = df[['buying']]"
   ]
  },
  {
   "cell_type": "code",
   "execution_count": 9,
   "metadata": {},
   "outputs": [],
   "source": [
    "# Split the dataset to train and test\n",
    "# Perform Stratified Splitting to ensure that both train and test data have the equal proportion of the dependent class values.\n",
    "X_train, X_test, y_train, y_test = train_test_split(X, y, test_size=0.20, random_state=0, stratify = df['buying'])"
   ]
  },
  {
   "cell_type": "code",
   "execution_count": 52,
   "metadata": {},
   "outputs": [],
   "source": [
    "# create a gradient boosting classifier model\n",
    "gb = GradientBoostingClassifier(random_state = 0, max_depth = 5, n_estimators=100, learning_rate=0.001)\n",
    "\n",
    "# fit the training data into the model\n",
    "gb.fit(X_train.values, y_train.values)\n",
    "\n",
    "# do a prediction on the test data\n",
    "y_pred = gb.predict(X_test.values)"
   ]
  },
  {
   "cell_type": "code",
   "execution_count": 53,
   "metadata": {
    "scrolled": true
   },
   "outputs": [
    {
     "name": "stdout",
     "output_type": "stream",
     "text": [
      "[[30 18 15 24]\n",
      " [38 15 22 12]\n",
      " [25 13 23 25]\n",
      " [24 10 40 12]]\n"
     ]
    }
   ],
   "source": [
    "# get confusion matrix of the predictions on the test data\n",
    "cm = confusion_matrix(y_test, y_pred)\n",
    "print(cm)"
   ]
  },
  {
   "cell_type": "markdown",
   "metadata": {},
   "source": [
    "Now, lets predict with the following parameters:\n",
    "- Maintenance = High\n",
    "- Number of doors = 4\n",
    "- Lug Boot Size = Big\n",
    "- Safety = High\n",
    "- Class Value = Good"
   ]
  },
  {
   "cell_type": "code",
   "execution_count": 62,
   "metadata": {},
   "outputs": [],
   "source": [
    "# predict with the parameters and get the respective encoded values from the mapping files\n",
    "to_predict = np.array([[maint_mapping.get('high'),doors_mapping.get('4'),lug_boot_mapping.get('big'),\n",
    "                       safety_mapping.get('high'),acceptability_mapping.get('good'),]])"
   ]
  },
  {
   "cell_type": "code",
   "execution_count": 63,
   "metadata": {},
   "outputs": [
    {
     "name": "stdout",
     "output_type": "stream",
     "text": [
      "The buying price is high\n"
     ]
    }
   ],
   "source": [
    "# predicts and get the respective value\n",
    "key_list = list(buying_mapping.keys())\n",
    "val_list = list(buying_mapping.values())\n",
    "\n",
    "y_pred = gb.predict(a)\n",
    "print(\"The buying price is\", key_list[val_list.index(y_pred[0])])"
   ]
  }
 ],
 "metadata": {
  "kernelspec": {
   "display_name": "Python 3 (ipykernel)",
   "language": "python",
   "name": "python3"
  },
  "language_info": {
   "codemirror_mode": {
    "name": "ipython",
    "version": 3
   },
   "file_extension": ".py",
   "mimetype": "text/x-python",
   "name": "python",
   "nbconvert_exporter": "python",
   "pygments_lexer": "ipython3",
   "version": "3.7.3"
  }
 },
 "nbformat": 4,
 "nbformat_minor": 2
}
