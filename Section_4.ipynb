{
 "cells": [
  {
   "cell_type": "code",
   "execution_count": 1,
   "metadata": {},
   "outputs": [],
   "source": [
    "# import necesssary lib\n",
    "\n",
    "import math\n",
    "import pandas as pd\n",
    "import numpy as np\n",
    "import matplotlib.pyplot as plt\n",
    "import re\n",
    "from datetime import datetime\n",
    "\n",
    "import urllib\n",
    "from urllib.request import Request\n",
    "import json"
   ]
  },
  {
   "cell_type": "code",
   "execution_count": 2,
   "metadata": {
    "scrolled": true
   },
   "outputs": [],
   "source": [
    "# Get the list of countries\n",
    "req = Request(\"https://api.covid19api.com/countries\", headers={'User-Agent': 'Google'})\n",
    "\n",
    "with urllib.request.urlopen(req) as url:\n",
    "    # read string as json\n",
    "    data = json.loads(url.read().decode())"
   ]
  },
  {
   "cell_type": "markdown",
   "metadata": {},
   "source": [
    "Based on the API call above, we can see that the Slug for Singapore is 'singapore' "
   ]
  },
  {
   "cell_type": "code",
   "execution_count": 3,
   "metadata": {},
   "outputs": [],
   "source": [
    "# Get the number of confirmed, deaths and recovered cases in Singapore since 23 Jan 2020\n",
    "req = Request(\"https://api.covid19api.com/total/dayone/country/singapore\", headers={'User-Agent': 'Google'})\n",
    "\n",
    "with urllib.request.urlopen(req) as url:\n",
    "    # read string as json\n",
    "    data = json.loads(url.read().decode())"
   ]
  },
  {
   "cell_type": "code",
   "execution_count": 4,
   "metadata": {},
   "outputs": [
    {
     "name": "stdout",
     "output_type": "stream",
     "text": [
      "719\n"
     ]
    }
   ],
   "source": [
    "# See the number of days\n",
    "print(len(data))"
   ]
  },
  {
   "cell_type": "markdown",
   "metadata": {},
   "source": [
    "There are 718 days worth of data for Singapore"
   ]
  },
  {
   "cell_type": "code",
   "execution_count": 5,
   "metadata": {},
   "outputs": [],
   "source": [
    "# Convert the list of JSON objects into dataframe\n",
    "df = pd.json_normalize(data)"
   ]
  },
  {
   "cell_type": "code",
   "execution_count": 6,
   "metadata": {},
   "outputs": [
    {
     "data": {
      "text/html": [
       "<div>\n",
       "<style scoped>\n",
       "    .dataframe tbody tr th:only-of-type {\n",
       "        vertical-align: middle;\n",
       "    }\n",
       "\n",
       "    .dataframe tbody tr th {\n",
       "        vertical-align: top;\n",
       "    }\n",
       "\n",
       "    .dataframe thead th {\n",
       "        text-align: right;\n",
       "    }\n",
       "</style>\n",
       "<table border=\"1\" class=\"dataframe\">\n",
       "  <thead>\n",
       "    <tr style=\"text-align: right;\">\n",
       "      <th></th>\n",
       "      <th>Country</th>\n",
       "      <th>CountryCode</th>\n",
       "      <th>Province</th>\n",
       "      <th>City</th>\n",
       "      <th>CityCode</th>\n",
       "      <th>Lat</th>\n",
       "      <th>Lon</th>\n",
       "      <th>Confirmed</th>\n",
       "      <th>Deaths</th>\n",
       "      <th>Recovered</th>\n",
       "      <th>Active</th>\n",
       "      <th>Date</th>\n",
       "    </tr>\n",
       "  </thead>\n",
       "  <tbody>\n",
       "    <tr>\n",
       "      <th>0</th>\n",
       "      <td>Singapore</td>\n",
       "      <td></td>\n",
       "      <td></td>\n",
       "      <td></td>\n",
       "      <td></td>\n",
       "      <td>0</td>\n",
       "      <td>0</td>\n",
       "      <td>1</td>\n",
       "      <td>0</td>\n",
       "      <td>0</td>\n",
       "      <td>1</td>\n",
       "      <td>2020-01-23T00:00:00Z</td>\n",
       "    </tr>\n",
       "    <tr>\n",
       "      <th>1</th>\n",
       "      <td>Singapore</td>\n",
       "      <td></td>\n",
       "      <td></td>\n",
       "      <td></td>\n",
       "      <td></td>\n",
       "      <td>0</td>\n",
       "      <td>0</td>\n",
       "      <td>3</td>\n",
       "      <td>0</td>\n",
       "      <td>0</td>\n",
       "      <td>3</td>\n",
       "      <td>2020-01-24T00:00:00Z</td>\n",
       "    </tr>\n",
       "    <tr>\n",
       "      <th>2</th>\n",
       "      <td>Singapore</td>\n",
       "      <td></td>\n",
       "      <td></td>\n",
       "      <td></td>\n",
       "      <td></td>\n",
       "      <td>0</td>\n",
       "      <td>0</td>\n",
       "      <td>3</td>\n",
       "      <td>0</td>\n",
       "      <td>0</td>\n",
       "      <td>3</td>\n",
       "      <td>2020-01-25T00:00:00Z</td>\n",
       "    </tr>\n",
       "    <tr>\n",
       "      <th>3</th>\n",
       "      <td>Singapore</td>\n",
       "      <td></td>\n",
       "      <td></td>\n",
       "      <td></td>\n",
       "      <td></td>\n",
       "      <td>0</td>\n",
       "      <td>0</td>\n",
       "      <td>4</td>\n",
       "      <td>0</td>\n",
       "      <td>0</td>\n",
       "      <td>4</td>\n",
       "      <td>2020-01-26T00:00:00Z</td>\n",
       "    </tr>\n",
       "    <tr>\n",
       "      <th>4</th>\n",
       "      <td>Singapore</td>\n",
       "      <td></td>\n",
       "      <td></td>\n",
       "      <td></td>\n",
       "      <td></td>\n",
       "      <td>0</td>\n",
       "      <td>0</td>\n",
       "      <td>5</td>\n",
       "      <td>0</td>\n",
       "      <td>0</td>\n",
       "      <td>5</td>\n",
       "      <td>2020-01-27T00:00:00Z</td>\n",
       "    </tr>\n",
       "  </tbody>\n",
       "</table>\n",
       "</div>"
      ],
      "text/plain": [
       "     Country CountryCode Province City CityCode Lat Lon  Confirmed  Deaths  \\\n",
       "0  Singapore                                      0   0          1       0   \n",
       "1  Singapore                                      0   0          3       0   \n",
       "2  Singapore                                      0   0          3       0   \n",
       "3  Singapore                                      0   0          4       0   \n",
       "4  Singapore                                      0   0          5       0   \n",
       "\n",
       "   Recovered  Active                  Date  \n",
       "0          0       1  2020-01-23T00:00:00Z  \n",
       "1          0       3  2020-01-24T00:00:00Z  \n",
       "2          0       3  2020-01-25T00:00:00Z  \n",
       "3          0       4  2020-01-26T00:00:00Z  \n",
       "4          0       5  2020-01-27T00:00:00Z  "
      ]
     },
     "execution_count": 6,
     "metadata": {},
     "output_type": "execute_result"
    }
   ],
   "source": [
    "# take a quick look at the dataframe\n",
    "df.head()"
   ]
  },
  {
   "cell_type": "code",
   "execution_count": 7,
   "metadata": {
    "scrolled": false
   },
   "outputs": [
    {
     "data": {
      "text/plain": [
       "Country        object\n",
       "CountryCode    object\n",
       "Province       object\n",
       "City           object\n",
       "CityCode       object\n",
       "Lat            object\n",
       "Lon            object\n",
       "Confirmed       int64\n",
       "Deaths          int64\n",
       "Recovered       int64\n",
       "Active          int64\n",
       "Date           object\n",
       "dtype: object"
      ]
     },
     "execution_count": 7,
     "metadata": {},
     "output_type": "execute_result"
    }
   ],
   "source": [
    "# check the data types for each columns\n",
    "df.dtypes"
   ]
  },
  {
   "cell_type": "markdown",
   "metadata": {},
   "source": [
    "The datatype for Date is wrong. It should be converted to Date data type instead of remaining as string"
   ]
  },
  {
   "cell_type": "code",
   "execution_count": 8,
   "metadata": {},
   "outputs": [],
   "source": [
    "# convert the date column in string to date object\n",
    "df['Date'] = df['Date'].apply(lambda x: datetime.fromisoformat(x[:-1]))"
   ]
  },
  {
   "cell_type": "code",
   "execution_count": 9,
   "metadata": {},
   "outputs": [],
   "source": [
    "# drop unnecessary columns such as CountryCode, Province, City, CityCode, Lat, Lon\n",
    "df.drop(columns=['CountryCode','Province','City','CityCode','Lat','Lon'], inplace=True)"
   ]
  },
  {
   "cell_type": "code",
   "execution_count": 10,
   "metadata": {
    "scrolled": true
   },
   "outputs": [
    {
     "data": {
      "text/html": [
       "<div>\n",
       "<style scoped>\n",
       "    .dataframe tbody tr th:only-of-type {\n",
       "        vertical-align: middle;\n",
       "    }\n",
       "\n",
       "    .dataframe tbody tr th {\n",
       "        vertical-align: top;\n",
       "    }\n",
       "\n",
       "    .dataframe thead th {\n",
       "        text-align: right;\n",
       "    }\n",
       "</style>\n",
       "<table border=\"1\" class=\"dataframe\">\n",
       "  <thead>\n",
       "    <tr style=\"text-align: right;\">\n",
       "      <th></th>\n",
       "      <th>Country</th>\n",
       "      <th>Confirmed</th>\n",
       "      <th>Deaths</th>\n",
       "      <th>Recovered</th>\n",
       "      <th>Active</th>\n",
       "      <th>Date</th>\n",
       "    </tr>\n",
       "  </thead>\n",
       "  <tbody>\n",
       "    <tr>\n",
       "      <th>0</th>\n",
       "      <td>Singapore</td>\n",
       "      <td>1</td>\n",
       "      <td>0</td>\n",
       "      <td>0</td>\n",
       "      <td>1</td>\n",
       "      <td>2020-01-23</td>\n",
       "    </tr>\n",
       "    <tr>\n",
       "      <th>1</th>\n",
       "      <td>Singapore</td>\n",
       "      <td>3</td>\n",
       "      <td>0</td>\n",
       "      <td>0</td>\n",
       "      <td>3</td>\n",
       "      <td>2020-01-24</td>\n",
       "    </tr>\n",
       "    <tr>\n",
       "      <th>2</th>\n",
       "      <td>Singapore</td>\n",
       "      <td>3</td>\n",
       "      <td>0</td>\n",
       "      <td>0</td>\n",
       "      <td>3</td>\n",
       "      <td>2020-01-25</td>\n",
       "    </tr>\n",
       "    <tr>\n",
       "      <th>3</th>\n",
       "      <td>Singapore</td>\n",
       "      <td>4</td>\n",
       "      <td>0</td>\n",
       "      <td>0</td>\n",
       "      <td>4</td>\n",
       "      <td>2020-01-26</td>\n",
       "    </tr>\n",
       "    <tr>\n",
       "      <th>4</th>\n",
       "      <td>Singapore</td>\n",
       "      <td>5</td>\n",
       "      <td>0</td>\n",
       "      <td>0</td>\n",
       "      <td>5</td>\n",
       "      <td>2020-01-27</td>\n",
       "    </tr>\n",
       "  </tbody>\n",
       "</table>\n",
       "</div>"
      ],
      "text/plain": [
       "     Country  Confirmed  Deaths  Recovered  Active       Date\n",
       "0  Singapore          1       0          0       1 2020-01-23\n",
       "1  Singapore          3       0          0       3 2020-01-24\n",
       "2  Singapore          3       0          0       3 2020-01-25\n",
       "3  Singapore          4       0          0       4 2020-01-26\n",
       "4  Singapore          5       0          0       5 2020-01-27"
      ]
     },
     "execution_count": 10,
     "metadata": {},
     "output_type": "execute_result"
    }
   ],
   "source": [
    "# take a quick look at the dataframe\n",
    "df.head()"
   ]
  },
  {
   "cell_type": "code",
   "execution_count": 11,
   "metadata": {},
   "outputs": [
    {
     "data": {
      "text/plain": [
       "<AxesSubplot:xlabel='Date'>"
      ]
     },
     "execution_count": 11,
     "metadata": {},
     "output_type": "execute_result"
    },
    {
     "data": {
      "image/png": "[encoded data removed]",
      "text/plain": [
       "<Figure size 432x288 with 1 Axes>"
      ]
     },
     "metadata": {
      "needs_background": "light"
     },
     "output_type": "display_data"
    }
   ],
   "source": [
    "# plot a graph to show the number of cases of each status in Singapore over time\n",
    "df.plot(x='Date',y=['Confirmed','Deaths','Recovered','Active'])"
   ]
  },
  {
   "cell_type": "code",
   "execution_count": 12,
   "metadata": {},
   "outputs": [
    {
     "data": {
      "text/plain": [
       "<AxesSubplot:xlabel='Date'>"
      ]
     },
     "execution_count": 12,
     "metadata": {},
     "output_type": "execute_result"
    },
    {
     "data": {
      "image/png": "[encoded data removed]",
      "text/plain": [
       "<Figure size 432x288 with 1 Axes>"
      ]
     },
     "metadata": {
      "needs_background": "light"
     },
     "output_type": "display_data"
    }
   ],
   "source": [
    "# plot a graph to show the number of confirmed cases in Singapore over time\n",
    "df.plot(x='Date',y=['Confirmed'])"
   ]
  },
  {
   "cell_type": "code",
   "execution_count": 13,
   "metadata": {
    "scrolled": true
   },
   "outputs": [
    {
     "data": {
      "text/plain": [
       "<AxesSubplot:xlabel='Date'>"
      ]
     },
     "execution_count": 13,
     "metadata": {},
     "output_type": "execute_result"
    },
    {
     "data": {
      "image/png": "[encoded data removed]",
      "text/plain": [
       "<Figure size 432x288 with 1 Axes>"
      ]
     },
     "metadata": {
      "needs_background": "light"
     },
     "output_type": "display_data"
    }
   ],
   "source": [
    "# plot a graph to show the number of confirmed cases in Singapore over time\n",
    "df.plot(x='Date',y=['Deaths'])"
   ]
  },
  {
   "cell_type": "markdown",
   "metadata": {},
   "source": [
    "Based on these charts, we can see a sudden drop in Recovered number while the Active number spiked up tremendously. This happens around August 2021. Let's take a look at the data"
   ]
  },
  {
   "cell_type": "code",
   "execution_count": 14,
   "metadata": {
    "scrolled": true
   },
   "outputs": [
    {
     "data": {
      "text/html": [
       "<div>\n",
       "<style scoped>\n",
       "    .dataframe tbody tr th:only-of-type {\n",
       "        vertical-align: middle;\n",
       "    }\n",
       "\n",
       "    .dataframe tbody tr th {\n",
       "        vertical-align: top;\n",
       "    }\n",
       "\n",
       "    .dataframe thead th {\n",
       "        text-align: right;\n",
       "    }\n",
       "</style>\n",
       "<table border=\"1\" class=\"dataframe\">\n",
       "  <thead>\n",
       "    <tr style=\"text-align: right;\">\n",
       "      <th></th>\n",
       "      <th>Country</th>\n",
       "      <th>Confirmed</th>\n",
       "      <th>Deaths</th>\n",
       "      <th>Recovered</th>\n",
       "      <th>Active</th>\n",
       "      <th>Date</th>\n",
       "    </tr>\n",
       "  </thead>\n",
       "  <tbody>\n",
       "    <tr>\n",
       "      <th>556</th>\n",
       "      <td>Singapore</td>\n",
       "      <td>65102</td>\n",
       "      <td>37</td>\n",
       "      <td>62957</td>\n",
       "      <td>2108</td>\n",
       "      <td>2021-08-01</td>\n",
       "    </tr>\n",
       "    <tr>\n",
       "      <th>557</th>\n",
       "      <td>Singapore</td>\n",
       "      <td>65213</td>\n",
       "      <td>38</td>\n",
       "      <td>63033</td>\n",
       "      <td>2142</td>\n",
       "      <td>2021-08-02</td>\n",
       "    </tr>\n",
       "    <tr>\n",
       "      <th>558</th>\n",
       "      <td>Singapore</td>\n",
       "      <td>65315</td>\n",
       "      <td>38</td>\n",
       "      <td>63252</td>\n",
       "      <td>2025</td>\n",
       "      <td>2021-08-03</td>\n",
       "    </tr>\n",
       "    <tr>\n",
       "      <th>559</th>\n",
       "      <td>Singapore</td>\n",
       "      <td>65410</td>\n",
       "      <td>39</td>\n",
       "      <td>63357</td>\n",
       "      <td>2014</td>\n",
       "      <td>2021-08-04</td>\n",
       "    </tr>\n",
       "    <tr>\n",
       "      <th>560</th>\n",
       "      <td>Singapore</td>\n",
       "      <td>65508</td>\n",
       "      <td>40</td>\n",
       "      <td>0</td>\n",
       "      <td>65468</td>\n",
       "      <td>2021-08-05</td>\n",
       "    </tr>\n",
       "    <tr>\n",
       "      <th>561</th>\n",
       "      <td>Singapore</td>\n",
       "      <td>65605</td>\n",
       "      <td>41</td>\n",
       "      <td>0</td>\n",
       "      <td>65564</td>\n",
       "      <td>2021-08-06</td>\n",
       "    </tr>\n",
       "    <tr>\n",
       "      <th>562</th>\n",
       "      <td>Singapore</td>\n",
       "      <td>65686</td>\n",
       "      <td>42</td>\n",
       "      <td>0</td>\n",
       "      <td>65644</td>\n",
       "      <td>2021-08-07</td>\n",
       "    </tr>\n",
       "    <tr>\n",
       "      <th>563</th>\n",
       "      <td>Singapore</td>\n",
       "      <td>65764</td>\n",
       "      <td>42</td>\n",
       "      <td>0</td>\n",
       "      <td>65722</td>\n",
       "      <td>2021-08-08</td>\n",
       "    </tr>\n",
       "    <tr>\n",
       "      <th>564</th>\n",
       "      <td>Singapore</td>\n",
       "      <td>65836</td>\n",
       "      <td>42</td>\n",
       "      <td>0</td>\n",
       "      <td>65614</td>\n",
       "      <td>2021-08-09</td>\n",
       "    </tr>\n",
       "    <tr>\n",
       "      <th>565</th>\n",
       "      <td>Singapore</td>\n",
       "      <td>65836</td>\n",
       "      <td>42</td>\n",
       "      <td>0</td>\n",
       "      <td>65794</td>\n",
       "      <td>2021-08-10</td>\n",
       "    </tr>\n",
       "    <tr>\n",
       "      <th>566</th>\n",
       "      <td>Singapore</td>\n",
       "      <td>65953</td>\n",
       "      <td>43</td>\n",
       "      <td>0</td>\n",
       "      <td>65910</td>\n",
       "      <td>2021-08-11</td>\n",
       "    </tr>\n",
       "    <tr>\n",
       "      <th>567</th>\n",
       "      <td>Singapore</td>\n",
       "      <td>66012</td>\n",
       "      <td>43</td>\n",
       "      <td>0</td>\n",
       "      <td>65969</td>\n",
       "      <td>2021-08-12</td>\n",
       "    </tr>\n",
       "    <tr>\n",
       "      <th>568</th>\n",
       "      <td>Singapore</td>\n",
       "      <td>66061</td>\n",
       "      <td>44</td>\n",
       "      <td>0</td>\n",
       "      <td>66017</td>\n",
       "      <td>2021-08-13</td>\n",
       "    </tr>\n",
       "    <tr>\n",
       "      <th>569</th>\n",
       "      <td>Singapore</td>\n",
       "      <td>66119</td>\n",
       "      <td>44</td>\n",
       "      <td>0</td>\n",
       "      <td>66075</td>\n",
       "      <td>2021-08-14</td>\n",
       "    </tr>\n",
       "    <tr>\n",
       "      <th>570</th>\n",
       "      <td>Singapore</td>\n",
       "      <td>66172</td>\n",
       "      <td>44</td>\n",
       "      <td>0</td>\n",
       "      <td>66128</td>\n",
       "      <td>2021-08-15</td>\n",
       "    </tr>\n",
       "    <tr>\n",
       "      <th>571</th>\n",
       "      <td>Singapore</td>\n",
       "      <td>66225</td>\n",
       "      <td>44</td>\n",
       "      <td>0</td>\n",
       "      <td>66181</td>\n",
       "      <td>2021-08-16</td>\n",
       "    </tr>\n",
       "    <tr>\n",
       "      <th>572</th>\n",
       "      <td>Singapore</td>\n",
       "      <td>66281</td>\n",
       "      <td>45</td>\n",
       "      <td>0</td>\n",
       "      <td>66236</td>\n",
       "      <td>2021-08-17</td>\n",
       "    </tr>\n",
       "    <tr>\n",
       "      <th>573</th>\n",
       "      <td>Singapore</td>\n",
       "      <td>66334</td>\n",
       "      <td>46</td>\n",
       "      <td>0</td>\n",
       "      <td>66288</td>\n",
       "      <td>2021-08-18</td>\n",
       "    </tr>\n",
       "    <tr>\n",
       "      <th>574</th>\n",
       "      <td>Singapore</td>\n",
       "      <td>66366</td>\n",
       "      <td>46</td>\n",
       "      <td>0</td>\n",
       "      <td>66320</td>\n",
       "      <td>2021-08-19</td>\n",
       "    </tr>\n",
       "    <tr>\n",
       "      <th>575</th>\n",
       "      <td>Singapore</td>\n",
       "      <td>66406</td>\n",
       "      <td>47</td>\n",
       "      <td>0</td>\n",
       "      <td>66359</td>\n",
       "      <td>2021-08-20</td>\n",
       "    </tr>\n",
       "    <tr>\n",
       "      <th>576</th>\n",
       "      <td>Singapore</td>\n",
       "      <td>66443</td>\n",
       "      <td>47</td>\n",
       "      <td>0</td>\n",
       "      <td>66396</td>\n",
       "      <td>2021-08-21</td>\n",
       "    </tr>\n",
       "    <tr>\n",
       "      <th>577</th>\n",
       "      <td>Singapore</td>\n",
       "      <td>66478</td>\n",
       "      <td>49</td>\n",
       "      <td>0</td>\n",
       "      <td>66429</td>\n",
       "      <td>2021-08-22</td>\n",
       "    </tr>\n",
       "    <tr>\n",
       "      <th>578</th>\n",
       "      <td>Singapore</td>\n",
       "      <td>66576</td>\n",
       "      <td>50</td>\n",
       "      <td>0</td>\n",
       "      <td>66526</td>\n",
       "      <td>2021-08-23</td>\n",
       "    </tr>\n",
       "    <tr>\n",
       "      <th>579</th>\n",
       "      <td>Singapore</td>\n",
       "      <td>66692</td>\n",
       "      <td>50</td>\n",
       "      <td>0</td>\n",
       "      <td>66642</td>\n",
       "      <td>2021-08-24</td>\n",
       "    </tr>\n",
       "    <tr>\n",
       "      <th>580</th>\n",
       "      <td>Singapore</td>\n",
       "      <td>66812</td>\n",
       "      <td>52</td>\n",
       "      <td>0</td>\n",
       "      <td>66760</td>\n",
       "      <td>2021-08-25</td>\n",
       "    </tr>\n",
       "    <tr>\n",
       "      <th>581</th>\n",
       "      <td>Singapore</td>\n",
       "      <td>66928</td>\n",
       "      <td>52</td>\n",
       "      <td>0</td>\n",
       "      <td>66876</td>\n",
       "      <td>2021-08-26</td>\n",
       "    </tr>\n",
       "    <tr>\n",
       "      <th>582</th>\n",
       "      <td>Singapore</td>\n",
       "      <td>66928</td>\n",
       "      <td>52</td>\n",
       "      <td>0</td>\n",
       "      <td>66876</td>\n",
       "      <td>2021-08-27</td>\n",
       "    </tr>\n",
       "    <tr>\n",
       "      <th>583</th>\n",
       "      <td>Singapore</td>\n",
       "      <td>67171</td>\n",
       "      <td>55</td>\n",
       "      <td>0</td>\n",
       "      <td>67116</td>\n",
       "      <td>2021-08-28</td>\n",
       "    </tr>\n",
       "    <tr>\n",
       "      <th>584</th>\n",
       "      <td>Singapore</td>\n",
       "      <td>67171</td>\n",
       "      <td>55</td>\n",
       "      <td>0</td>\n",
       "      <td>67116</td>\n",
       "      <td>2021-08-29</td>\n",
       "    </tr>\n",
       "    <tr>\n",
       "      <th>585</th>\n",
       "      <td>Singapore</td>\n",
       "      <td>67459</td>\n",
       "      <td>55</td>\n",
       "      <td>0</td>\n",
       "      <td>67404</td>\n",
       "      <td>2021-08-30</td>\n",
       "    </tr>\n",
       "    <tr>\n",
       "      <th>586</th>\n",
       "      <td>Singapore</td>\n",
       "      <td>67620</td>\n",
       "      <td>55</td>\n",
       "      <td>0</td>\n",
       "      <td>67565</td>\n",
       "      <td>2021-08-31</td>\n",
       "    </tr>\n",
       "  </tbody>\n",
       "</table>\n",
       "</div>"
      ],
      "text/plain": [
       "       Country  Confirmed  Deaths  Recovered  Active       Date\n",
       "556  Singapore      65102      37      62957    2108 2021-08-01\n",
       "557  Singapore      65213      38      63033    2142 2021-08-02\n",
       "558  Singapore      65315      38      63252    2025 2021-08-03\n",
       "559  Singapore      65410      39      63357    2014 2021-08-04\n",
       "560  Singapore      65508      40          0   65468 2021-08-05\n",
       "561  Singapore      65605      41          0   65564 2021-08-06\n",
       "562  Singapore      65686      42          0   65644 2021-08-07\n",
       "563  Singapore      65764      42          0   65722 2021-08-08\n",
       "564  Singapore      65836      42          0   65614 2021-08-09\n",
       "565  Singapore      65836      42          0   65794 2021-08-10\n",
       "566  Singapore      65953      43          0   65910 2021-08-11\n",
       "567  Singapore      66012      43          0   65969 2021-08-12\n",
       "568  Singapore      66061      44          0   66017 2021-08-13\n",
       "569  Singapore      66119      44          0   66075 2021-08-14\n",
       "570  Singapore      66172      44          0   66128 2021-08-15\n",
       "571  Singapore      66225      44          0   66181 2021-08-16\n",
       "572  Singapore      66281      45          0   66236 2021-08-17\n",
       "573  Singapore      66334      46          0   66288 2021-08-18\n",
       "574  Singapore      66366      46          0   66320 2021-08-19\n",
       "575  Singapore      66406      47          0   66359 2021-08-20\n",
       "576  Singapore      66443      47          0   66396 2021-08-21\n",
       "577  Singapore      66478      49          0   66429 2021-08-22\n",
       "578  Singapore      66576      50          0   66526 2021-08-23\n",
       "579  Singapore      66692      50          0   66642 2021-08-24\n",
       "580  Singapore      66812      52          0   66760 2021-08-25\n",
       "581  Singapore      66928      52          0   66876 2021-08-26\n",
       "582  Singapore      66928      52          0   66876 2021-08-27\n",
       "583  Singapore      67171      55          0   67116 2021-08-28\n",
       "584  Singapore      67171      55          0   67116 2021-08-29\n",
       "585  Singapore      67459      55          0   67404 2021-08-30\n",
       "586  Singapore      67620      55          0   67565 2021-08-31"
      ]
     },
     "execution_count": 14,
     "metadata": {},
     "output_type": "execute_result"
    }
   ],
   "source": [
    "df[(df['Date'].dt.year == 2021) & (df['Date'].dt.month == 8)]"
   ]
  },
  {
   "cell_type": "markdown",
   "metadata": {},
   "source": [
    "We can see that the Recovered Number drops to zero from 5 August 2021 onwards and the number seems to add to the Active number. It seems that from 5 August 2021, all recovered Covid19 patients are treated as Active"
   ]
  }
 ],
 "metadata": {
  "kernelspec": {
   "display_name": "Python 3 (ipykernel)",
   "language": "python",
   "name": "python3"
  },
  "language_info": {
   "codemirror_mode": {
    "name": "ipython",
    "version": 3
   },
   "file_extension": ".py",
   "mimetype": "text/x-python",
   "name": "python",
   "nbconvert_exporter": "python",
   "pygments_lexer": "ipython3",
   "version": "3.7.3"
  }
 },
 "nbformat": 4,
 "nbformat_minor": 2
}
